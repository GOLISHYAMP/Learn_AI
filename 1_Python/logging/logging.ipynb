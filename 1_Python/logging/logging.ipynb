{
 "cells": [
  {
   "cell_type": "code",
   "execution_count": 1,
   "metadata": {},
   "outputs": [],
   "source": [
    "import logging"
   ]
  },
  {
   "cell_type": "code",
   "execution_count": 2,
   "metadata": {},
   "outputs": [],
   "source": [
    "# logging.basicConfig(level=logging.DEBUG)\n",
    "# logging.debug('this is debug log')\n",
    "# logging.info('this is info log')\n",
    "# logging.error('this is error log')\n",
    "# logging.warning('this is warning log')\n",
    "# logging.critical('this is critical log')\n"
   ]
  },
  {
   "cell_type": "code",
   "execution_count": 3,
   "metadata": {},
   "outputs": [],
   "source": [
    "# logging.basicConfig(\n",
    "#     level=logging.DEBUG,\n",
    "#     format='%(asctime)s-%(name)s-%(levelname)s-%(message)s',\n",
    "#     datefmt='%Y-%m-%d %H:%M:%S'\n",
    "# )\n",
    "\n",
    "# logging.basicConfig(level=logging.DEBUG)\n",
    "# logging.debug('this is debug log')\n",
    "# logging.info('this is info log')\n",
    "# logging.error('this is error log')\n",
    "# logging.warning('this is warning log')\n",
    "# logging.critical('this is critical log')\n"
   ]
  },
  {
   "cell_type": "code",
   "execution_count": 4,
   "metadata": {},
   "outputs": [],
   "source": [
    "logging.basicConfig(\n",
    "    filename='logging.log',\n",
    "    filemode='w',\n",
    "    level=logging.DEBUG,\n",
    "    format='%(asctime)s-%(name)s-%(levelname)s-%(message)s',\n",
    "    datefmt='%Y-%m-%d %H:%M:%S'\n",
    ")\n",
    "\n",
    "logging.basicConfig(level=logging.DEBUG)\n",
    "logging.debug('this is debug log')\n",
    "logging.info('this is info log')\n",
    "logging.error('this is error log')\n",
    "logging.warning('this is warning log')\n",
    "logging.critical('this is critical log')\n"
   ]
  }
 ],
 "metadata": {
  "kernelspec": {
   "display_name": "AI_env",
   "language": "python",
   "name": "python3"
  },
  "language_info": {
   "codemirror_mode": {
    "name": "ipython",
    "version": 3
   },
   "file_extension": ".py",
   "mimetype": "text/x-python",
   "name": "python",
   "nbconvert_exporter": "python",
   "pygments_lexer": "ipython3",
   "version": "3.10.11"
  }
 },
 "nbformat": 4,
 "nbformat_minor": 2
}
