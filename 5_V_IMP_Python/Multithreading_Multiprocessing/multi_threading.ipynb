{
 "cells": [
  {
   "cell_type": "code",
   "execution_count": null,
   "metadata": {},
   "outputs": [],
   "source": [
    "# threadpoolexecutor\n"
   ]
  },
  {
   "cell_type": "code",
   "execution_count": 6,
   "metadata": {},
   "outputs": [
    {
     "name": "stdout",
     "output_type": "stream",
     "text": [
      "3\n",
      "5\n"
     ]
    }
   ],
   "source": [
    "import threading\n",
    "import time\n",
    "\n",
    "li = [1,2,3,4]\n",
    "def func(i):\n",
    "    # for i in li:\n",
    "    time.sleep(2)\n",
    "    print(i)\n",
    "\n",
    "t1 = threading.Thread(target=func,args=[3])\n",
    "t2 = threading.Thread(target=func,args=[5])\n",
    "\n",
    "t1.start()\n",
    "t2.start()\n",
    "\n",
    "t1.join()\n",
    "t2.join()\n",
    "\n"
   ]
  },
  {
   "cell_type": "code",
   "execution_count": null,
   "metadata": {},
   "outputs": [],
   "source": [
    "import \n",
    "import time\n",
    "\n",
    "li = [1,2,3,4]\n",
    "def func(i):\n",
    "    # for i in li:\n",
    "    time.sleep(2)\n",
    "    print(i)\n",
    "\n",
    "t1 = processing.Pro(target=func,args=[3])\n",
    "t2 = threading.Thread(target=func,args=[5])\n",
    "\n",
    "process.P\n",
    "t1.start()\n",
    "t2.start()\n",
    "\n",
    "t1.join()\n",
    "t2.join()\n",
    "\n"
   ]
  }
 ],
 "metadata": {
  "kernelspec": {
   "display_name": "AI_env",
   "language": "python",
   "name": "python3"
  },
  "language_info": {
   "codemirror_mode": {
    "name": "ipython",
    "version": 3
   },
   "file_extension": ".py",
   "mimetype": "text/x-python",
   "name": "python",
   "nbconvert_exporter": "python",
   "pygments_lexer": "ipython3",
   "version": "3.10.11"
  }
 },
 "nbformat": 4,
 "nbformat_minor": 2
}
