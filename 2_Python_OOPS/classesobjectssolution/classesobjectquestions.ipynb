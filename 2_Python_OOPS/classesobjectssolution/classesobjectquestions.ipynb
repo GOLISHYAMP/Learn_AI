{
 "cells": [
  {
   "cell_type": "markdown",
   "metadata": {},
   "source": [
    "# Module: Classes and Objects Assignments\n",
    "## Lesson: Creating and Working with Classes and Objects\n",
    "### Assignment 1: Basic Class and Object Creation\n",
    "\n",
    "Create a class named `Car` with attributes `make`, `model`, and `year`. Create an object of the class and print its attributes.\n",
    "\n",
    "### Assignment 2: Methods in Class\n",
    "\n",
    "Add a method named `start_engine` to the `Car` class that prints a message when the engine starts. Create an object of the class and call the method.\n",
    "\n",
    "### Assignment 3: Class with Constructor\n",
    "\n",
    "Create a class named `Student` with attributes `name` and `age`. Use a constructor to initialize these attributes. Create an object of the class and print its attributes.\n",
    "\n",
    "### Assignment 4: Class with Private Attributes\n",
    "\n",
    "Create a class named `BankAccount` with private attributes `account_number` and `balance`. Add methods to deposit and withdraw money, and to check the balance. Create an object of the class and perform some operations.\n",
    "\n",
    "### Assignment 5: Class Inheritance\n",
    "\n",
    "Create a base class named `Person` with attributes `name` and `age`. Create a derived class named `Employee` that inherits from `Person` and adds an attribute `employee_id`. Create an object of the derived class and print its attributes.\n",
    "\n",
    "### Assignment 6: Method Overriding\n",
    "\n",
    "In the `Employee` class, override the `__str__` method to return a string representation of the object. Create an object of the class and print it.\n",
    "\n",
    "### Assignment 7: Class Composition\n",
    "\n",
    "Create a class named `Address` with attributes `street`, `city`, and `zipcode`. Create a class named `Person` that has an `Address` object as an attribute. Create an object of the `Person` class and print its address.\n",
    "\n",
    "### Assignment 8: Class with Class Variables\n",
    "\n",
    "Create a class named `Counter` with a class variable `count`. Each time an object is created, increment the count. Add a method to get the current count. Create multiple objects and print the count.\n",
    "\n",
    "### Assignment 9: Static Methods\n",
    "\n",
    "Create a class named `MathOperations` with a static method to calculate the square root of a number. Call the static method without creating an object.\n",
    "\n",
    "### Assignment 10: Class with Properties\n",
    "\n",
    "Create a class named `Rectangle` with private attributes `length` and `width`. Use properties to get and set these attributes. Create an object of the class and test the properties.\n",
    "\n",
    "### Assignment 11: Abstract Base Class\n",
    "\n",
    "Create an abstract base class named `Shape` with an abstract method `area`. Create derived classes `Circle` and `Square` that implement the `area` method. Create objects of the derived classes and call the `area` method.\n",
    "\n",
    "### Assignment 12: Operator Overloading\n",
    "\n",
    "Create a class named `Vector` with attributes `x` and `y`. Overload the `+` operator to add two `Vector` objects. Create objects of the class and test the operator overloading.\n",
    "\n",
    "### Assignment 13: Class with Custom Exception\n",
    "\n",
    "Create a custom exception named `InsufficientBalanceError`. In the `BankAccount` class, raise this exception when a withdrawal amount is greater than the balance. Handle the exception and print an appropriate message.\n",
    "\n",
    "### Assignment 14: Class with Context Manager\n",
    "\n",
    "Create a class named `FileManager` that implements the context manager protocol to open and close a file. Use this class to read the contents of a file.\n",
    "\n",
    "### Assignment 15: Chaining Methods\n",
    "\n",
    "Create a class named `Calculator` with methods to add, subtract, multiply, and divide. Each method should return the object itself to allow method chaining. Create an object and chain multiple method calls."
   ]
  },
  {
   "cell_type": "markdown",
   "id": "e2721189",
   "metadata": {},
   "source": [
    "### Assignment 1: Basic Class and Object Creation\n",
    "Create a class named `Car` with attributes `make`, `model`, and `year`. Create an object of the class and print its attributes."
   ]
  },
  {
   "cell_type": "code",
   "execution_count": 2,
   "id": "ce501d29",
   "metadata": {},
   "outputs": [
    {
     "name": "stdout",
     "output_type": "stream",
     "text": [
      "bmw\n",
      "2023\n"
     ]
    }
   ],
   "source": [
    "class Car:\n",
    "    def __init__(self, make, model, year):\n",
    "        self.make = make\n",
    "        self.model = model\n",
    "        self.year = year\n",
    "\n",
    "bmw = Car('bmw','tough','2023')\n",
    "print(bmw.make)\n",
    "print(bmw.year)"
   ]
  },
  {
   "cell_type": "markdown",
   "id": "a8dba68f",
   "metadata": {},
   "source": [
    "### Assignment 2: Methods in Class\n",
    "\n",
    "Add a method named `start_engine` to the `Car` class that prints a message when the engine starts. Create an object of the class and call the method."
   ]
  },
  {
   "cell_type": "code",
   "execution_count": 3,
   "metadata": {},
   "outputs": [
    {
     "name": "stdout",
     "output_type": "stream",
     "text": [
      "bmw\n",
      "2023\n",
      "Car is started\n"
     ]
    }
   ],
   "source": [
    "class car:\n",
    "    def __init__(shyam, make, model, year):\n",
    "        shyam.make = make\n",
    "        shyam.model = model\n",
    "        shyam.year = year\n",
    "    def start_engine(shyam):\n",
    "        print('Car is started')\n",
    "\n",
    "bmw = car('bmw','tough','2023')\n",
    "print(bmw.make)\n",
    "print(bmw.year)\n",
    "bmw.start_engine()"
   ]
  },
  {
   "cell_type": "markdown",
   "id": "3d917895",
   "metadata": {},
   "source": [
    "### Assignment 3: Class with Constructor\n",
    "\n",
    "Create a class named `Student` with attributes `name` and `age`. Use a constructor to initialize these attributes. Create an object of the class and print its attributes."
   ]
  },
  {
   "cell_type": "code",
   "execution_count": 4,
   "id": "18163d82",
   "metadata": {},
   "outputs": [
    {
     "name": "stdout",
     "output_type": "stream",
     "text": [
      "shyam and 24\n"
     ]
    }
   ],
   "source": [
    "class Student:\n",
    "    def __init__(self, name, age):\n",
    "        self.name = name\n",
    "        self.age = age\n",
    "    def __str__(self):\n",
    "        return f\"{self.name} and {self.age}\"\n",
    "\n",
    "student1 = Student('shyam',24)\n",
    "print(student1)"
   ]
  },
  {
   "cell_type": "markdown",
   "id": "7d02e850",
   "metadata": {},
   "source": [
    "### Assignment 4: Class with Private Attributes\n",
    "\n",
    "Create a class named `BankAccount` with private attributes `account_number` and `balance`. Add methods to deposit and withdraw money, and to check the balance. Create an object of the class and perform some operations."
   ]
  },
  {
   "cell_type": "code",
   "execution_count": 5,
   "id": "84f15069",
   "metadata": {},
   "outputs": [
    {
     "name": "stdout",
     "output_type": "stream",
     "text": [
      "Your current balace amount is 1500\n",
      "insufficient balance\n",
      "Your current balace amount is 1000\n"
     ]
    }
   ],
   "source": [
    "class BankAccount:\n",
    "    def __init__(self, account_number, balance):\n",
    "        self.__account_number = account_number\n",
    "        self.__balance = balance\n",
    "\n",
    "    def deposit(self, amount):\n",
    "        self.__balance += amount\n",
    "        self.check_balance()\n",
    "\n",
    "\n",
    "    def withdraw(self, amount):\n",
    "        if amount <= self.__balance:\n",
    "            self.__balance -= amount\n",
    "            self.check_balance()\n",
    "        else:\n",
    "            print('insufficient balance')\n",
    "\n",
    "    def check_balance(self):\n",
    "        print(f'Your current balace amount is {self.__balance}')\n",
    "    \n",
    "cust1 = BankAccount('100020',500)\n",
    "cust1.deposit(1000)\n",
    "cust1.withdraw(5000)\n",
    "cust1.withdraw(500)\n"
   ]
  },
  {
   "cell_type": "markdown",
   "id": "2dafd80e",
   "metadata": {},
   "source": [
    "### Assignment 5: Class Inheritance\n",
    "\n",
    "Create a base class named `Person` with attributes `name` and `age`. Create a derived class named `Employee` that inherits from `Person` and adds an attribute `employee_id`. Create an object of the derived class and print its attributes."
   ]
  },
  {
   "cell_type": "code",
   "execution_count": 6,
   "id": "6f99b5c1",
   "metadata": {},
   "outputs": [
    {
     "name": "stdout",
     "output_type": "stream",
     "text": [
      "shyam, 24 and 452631\n"
     ]
    }
   ],
   "source": [
    "class Person:\n",
    "    def __init__(self, name, age):\n",
    "        self.name = name\n",
    "        self.age = age\n",
    "\n",
    "class Employee(Person):\n",
    "    def __init__(self, name, age, employee_id):\n",
    "        super().__init__(name, age)\n",
    "        self.employee_id = employee_id\n",
    "    def show_attr(self):\n",
    "        print(f'{self.name}, {self.age} and {self.employee_id}')\n",
    "\n",
    "emp = Employee('shyam', 24, '452631')\n",
    "emp.show_attr()"
   ]
  },
  {
   "cell_type": "markdown",
   "id": "a85b9f0f",
   "metadata": {},
   "source": [
    "### Assignment 6: Method Overriding\n",
    "\n",
    "In the `Employee` class, override the `__str__` method to return a string representation of the object. Create an object of the class and print it.\n"
   ]
  },
  {
   "cell_type": "code",
   "execution_count": 7,
   "id": "40e4c4f1",
   "metadata": {},
   "outputs": [
    {
     "name": "stdout",
     "output_type": "stream",
     "text": [
      "name = shyam, age = 24 and emp_id = 452631\n"
     ]
    }
   ],
   "source": [
    "class Person:\n",
    "    def __init__(self, name, age):\n",
    "        self.name = name\n",
    "        self.age = age\n",
    "\n",
    "class Employee(Person):\n",
    "    def __init__(self, name, age, employee_id):\n",
    "        super().__init__(name, age)\n",
    "        self.employee_id = employee_id\n",
    "    def show_attr(self):\n",
    "        return f'{self.name}, {self.age} and {self.employee_id}'\n",
    "\n",
    "    def __str__(self):\n",
    "        return f'name = {self.name}, age = {self.age} and emp_id = {self.employee_id}'\n",
    "\n",
    "emp = Employee('shyam', 24, '452631')\n",
    "# emp.show_attr()\n",
    "print(emp)"
   ]
  },
  {
   "cell_type": "markdown",
   "id": "d62f6458",
   "metadata": {},
   "source": [
    "### Assignment 7: Class Composition\n",
    "\n",
    "Create a class named `Address` with attributes `street`, `city`, and `zipcode`. Create a class named `Person` that has an `Address` object as an attribute. Create an object of the `Person` class and print its address."
   ]
  },
  {
   "cell_type": "code",
   "execution_count": 8,
   "id": "829a3523",
   "metadata": {},
   "outputs": [
    {
     "name": "stdout",
     "output_type": "stream",
     "text": [
      "D.S road, Mumbai and 400018\n"
     ]
    }
   ],
   "source": [
    "class Address:\n",
    "    def __init__(self, street, city, zipcode):\n",
    "        self.street = street\n",
    "        self.city = city\n",
    "        self.zipcode = zipcode\n",
    "    def __str__(self):\n",
    "        return f'{self.street}, {self.city} and {self.zipcode}'\n",
    "\n",
    "class Person:\n",
    "    def __init__(self, street, city, zipcode):\n",
    "        self.address = Address(street, city, zipcode)\n",
    "        self.address.street = street\n",
    "        self.address.city = city\n",
    "        self.address.zipcode = zipcode\n",
    "    def __str__(self):\n",
    "        return f'{self.address}'\n",
    "\n",
    "person = Person('D.S road', 'Mumbai', 400018)\n",
    "print(person)\n",
    "    "
   ]
  },
  {
   "cell_type": "markdown",
   "id": "dafcfbf9",
   "metadata": {},
   "source": [
    "### Assignment 8: Class with Class Variables\n",
    "\n",
    "Create a class named `Counter` with a class variable `count`. Each time an object is created, increment the count. Add a method to get the current count. Create multiple objects and print the count."
   ]
  },
  {
   "cell_type": "code",
   "execution_count": 9,
   "id": "19b6ce4e",
   "metadata": {},
   "outputs": [
    {
     "name": "stdout",
     "output_type": "stream",
     "text": [
      "current count value is 1\n",
      "current count value is 2\n"
     ]
    }
   ],
   "source": [
    "class Counter:  \n",
    "    counts = 0\n",
    "    def __init__(self):\n",
    "        Counter.counts += 1\n",
    "    def show_count(self):\n",
    "        return f\"current count value is {Counter.counts}\"\n",
    "c1 = Counter()\n",
    "print(c1.show_count())\n",
    "c2 = Counter()\n",
    "print(c2.show_count())"
   ]
  },
  {
   "cell_type": "markdown",
   "id": "bcebaf31",
   "metadata": {},
   "source": [
    "### Assignment 9: Static Methods\n",
    "\n",
    "Create a class named `MathOperations` with a static method to calculate the square root of a number. Call the static method without creating an object."
   ]
  },
  {
   "cell_type": "code",
   "execution_count": 10,
   "id": "484b254d",
   "metadata": {},
   "outputs": [
    {
     "data": {
      "text/plain": [
       "4.0"
      ]
     },
     "execution_count": 10,
     "metadata": {},
     "output_type": "execute_result"
    }
   ],
   "source": [
    "import math\n",
    "class MathOperations:\n",
    "    @staticmethod\n",
    "    def cal_sqroot(number):\n",
    "        return math.sqrt(number)\n",
    "\n",
    "MathOperations.cal_sqroot(16)\n",
    "    "
   ]
  },
  {
   "cell_type": "markdown",
   "id": "b422bab8",
   "metadata": {},
   "source": [
    "### Assignment 10: Class with Properties\n",
    "\n",
    "Create a class named `Rectangle` with private attributes `length` and `width`. Use properties to get and set these attributes. Create an object of the class and test the properties."
   ]
  },
  {
   "cell_type": "code",
   "execution_count": 11,
   "id": "af210b23",
   "metadata": {},
   "outputs": [
    {
     "name": "stdout",
     "output_type": "stream",
     "text": [
      "-5 -10\n"
     ]
    },
    {
     "data": {
      "text/plain": [
       "['_Rectangle__length',\n",
       " '_Rectangle__breadth',\n",
       " '__module__',\n",
       " '__init__',\n",
       " 'length',\n",
       " 'breadth',\n",
       " '__dict__',\n",
       " '__weakref__',\n",
       " '__doc__',\n",
       " '__new__',\n",
       " '__repr__',\n",
       " '__hash__',\n",
       " '__str__',\n",
       " '__getattribute__',\n",
       " '__setattr__',\n",
       " '__delattr__',\n",
       " '__lt__',\n",
       " '__le__',\n",
       " '__eq__',\n",
       " '__ne__',\n",
       " '__gt__',\n",
       " '__ge__',\n",
       " '__reduce_ex__',\n",
       " '__reduce__',\n",
       " '__subclasshook__',\n",
       " '__init_subclass__',\n",
       " '__format__',\n",
       " '__sizeof__',\n",
       " '__dir__',\n",
       " '__class__']"
      ]
     },
     "execution_count": 11,
     "metadata": {},
     "output_type": "execute_result"
    }
   ],
   "source": [
    "class Rectangle:\n",
    "    def __init__(self,length, breadth):\n",
    "        self.__length = length\n",
    "        self.__breadth = breadth\n",
    "\n",
    "    @property\n",
    "    def length(self):\n",
    "        return self.__length\n",
    "    @property\n",
    "    def breadth(self):\n",
    "        return self.__breadth\n",
    "    \n",
    "    @length.setter\n",
    "    def length(self, length):\n",
    "        if length <= 0:\n",
    "            raise ValueError(\"value of lenght could should be greater than 0\")\n",
    "        self.__length = length\n",
    "    @breadth.setter\n",
    "    def breadth(self, breadth):\n",
    "        if breadth <= 0:\n",
    "            raise ValueError(\"value of breadth could should be greater than 0\")\n",
    "        self.__breadth = breadth\n",
    "\n",
    "rec = Rectangle(-5,-10)\n",
    "# rec.length = 5\n",
    "# rec.breadth =10\n",
    "print(rec.length, rec.breadth)\n",
    "rec.__dir__()"
   ]
  },
  {
   "cell_type": "markdown",
   "id": "8a3b544d",
   "metadata": {},
   "source": [
    "### Discriptor Class"
   ]
  },
  {
   "cell_type": "code",
   "execution_count": 12,
   "id": "aa525177",
   "metadata": {},
   "outputs": [
    {
     "name": "stdout",
     "output_type": "stream",
     "text": [
      "5\n",
      "10\n",
      "5\n"
     ]
    }
   ],
   "source": [
    "class DiscriptorClass:\n",
    "    def __set__(self, instance, value):\n",
    "        if value < 0:\n",
    "            raise ValueError(\"Value must be greater than 0\")\n",
    "        instance.__dict__[self.attribute_name] = value\n",
    "\n",
    "    def __set_name__(self, owner, name):\n",
    "        self.attribute_name = name\n",
    "    \n",
    "    def __get__(self, instance, owner):\n",
    "        return instance.__dict__[self.attribute_name]\n",
    "\n",
    "class Rectangle:\n",
    "    length = DiscriptorClass()\n",
    "    breadth = DiscriptorClass()\n",
    "    def __init__(self,length, breadth):\n",
    "        self.length = length\n",
    "        self.breadth = breadth\n",
    "\n",
    "rec = Rectangle(5,10)\n",
    "print(rec.length)\n",
    "print(rec.breadth)\n",
    "rec.length = 5\n",
    "print(rec.length)"
   ]
  },
  {
   "cell_type": "markdown",
   "id": "d0c0c185",
   "metadata": {},
   "source": [
    "### Assignment 11: Abstract Base Class\n",
    "\n",
    "Create an abstract base class named `Shape` with an abstract method `area`. Create derived classes `Circle` and `Square` that implement the `area` method. Create objects of the derived classes and call the `area` method."
   ]
  },
  {
   "cell_type": "code",
   "execution_count": 13,
   "id": "0393d7e6",
   "metadata": {},
   "outputs": [
    {
     "name": "stdout",
     "output_type": "stream",
     "text": [
      "28.259999999999998\n",
      "18.84\n"
     ]
    }
   ],
   "source": [
    "from abc import ABC, abstractmethod\n",
    "\n",
    "class Shape(ABC):\n",
    "    @abstractmethod\n",
    "    def area(self):\n",
    "        pass\n",
    "    @abstractmethod\n",
    "    def perimeter(self):\n",
    "        pass\n",
    "\n",
    "class Circle(Shape):\n",
    "    def __init__(self, radius):\n",
    "        self.radius = radius\n",
    "    def area(self):\n",
    "        return 3.14*self.radius*self.radius\n",
    "    \n",
    "class Square(Shape):\n",
    "    def __init__(self, side):\n",
    "        self.side = side\n",
    "    def area(self):\n",
    "        return self.side*self.side\n",
    "\n",
    "class Cal(Circle):\n",
    "    def __init__(self, radius):\n",
    "        self.radius = radius\n",
    "        super().__init__(radius)\n",
    "    def perimeter(self):\n",
    "        return 2*3.14*self.radius\n",
    "    def cal(self):\n",
    "        print(super().area())\n",
    "        print(self.perimeter())\n",
    "\n",
    "c = Cal(3)\n",
    "c.cal()\n",
    "# s = Square(3)\n",
    "# print(s.area())"
   ]
  },
  {
   "cell_type": "markdown",
   "id": "9727371c",
   "metadata": {},
   "source": [
    "### Assignment 12: Operator Overloading\n",
    "\n",
    "Create a class named `Vector` with attributes `x` and `y`. Overload the `+` operator to add two `Vector` objects. Create objects of the class and test the operator overloading."
   ]
  },
  {
   "cell_type": "code",
   "execution_count": 14,
   "id": "f15b486c",
   "metadata": {},
   "outputs": [
    {
     "data": {
      "text/plain": [
       "(5, 10)"
      ]
     },
     "execution_count": 14,
     "metadata": {},
     "output_type": "execute_result"
    }
   ],
   "source": [
    "class Vector:\n",
    "    def __init__(self, x, y):\n",
    "        self.x = x\n",
    "        self.y = y\n",
    "    def __add__(self, other):\n",
    "        return self.x+other.x, self.y+other.y\n",
    "    \n",
    "v1 = Vector(3,6)\n",
    "v2 = Vector(2,4)\n",
    "v1+v2"
   ]
  },
  {
   "cell_type": "markdown",
   "id": "a429ceb8",
   "metadata": {},
   "source": [
    "### Assignment 13: Class with Custom Exception\n",
    "\n",
    "Create a custom exception named `InsufficientBalanceError`. In the `BankAccount` class, raise this exception when a withdrawal amount is greater than the balance. Handle the exception and print an appropriate message."
   ]
  },
  {
   "cell_type": "code",
   "execution_count": 15,
   "id": "44f21bbf",
   "metadata": {},
   "outputs": [
    {
     "name": "stdout",
     "output_type": "stream",
     "text": [
      "Your current balace amount is 1500\n",
      "there shortage of funds in your account\n",
      "Your current balace amount is 1000\n"
     ]
    }
   ],
   "source": [
    "class Error(Exception):\n",
    "    pass\n",
    "class InsufficientBalanceError(Error):\n",
    "    pass\n",
    "    # def __str__(self):\n",
    "        # return \"there shortage of funds in your account\"\n",
    "\n",
    "\n",
    "class BankAccount:\n",
    "    def __init__(self, account_number, balance):\n",
    "        self.__account_number = account_number\n",
    "        self.__balance = balance\n",
    "\n",
    "    def deposit(self, amount):\n",
    "        self.__balance += amount\n",
    "        self.check_balance()\n",
    "\n",
    "\n",
    "    def withdraw(self, amount):\n",
    "        try:\n",
    "            if amount <= self.__balance:\n",
    "                self.__balance -= amount\n",
    "                self.check_balance()\n",
    "            else:\n",
    "                raise InsufficientBalanceError\n",
    "        except InsufficientBalanceError:\n",
    "            print(\"there shortage of funds in your account\")\n",
    "\n",
    "    def check_balance(self):\n",
    "        print(f'Your current balace amount is {self.__balance}')\n",
    "    \n",
    "cust1 = BankAccount('100020',500)\n",
    "cust1.deposit(1000)\n",
    "cust1.withdraw(5000)\n",
    "cust1.withdraw(500)\n"
   ]
  },
  {
   "cell_type": "markdown",
   "id": "4702394d",
   "metadata": {},
   "source": [
    "### Assignment 14: Class with Context Manager\n",
    "\n",
    "Create a class named `FileManager` that implements the context manager protocol to open and close a file. Use this class to read the contents of a file."
   ]
  },
  {
   "cell_type": "code",
   "execution_count": 16,
   "id": "565fce44",
   "metadata": {},
   "outputs": [
    {
     "name": "stdout",
     "output_type": "stream",
     "text": [
      "Hello, world!\n",
      "This is a test file.\n"
     ]
    }
   ],
   "source": [
    "class FileManager:\n",
    "    def __init__(self, filename, mode):\n",
    "        self.filename = filename\n",
    "        self.mode = mode\n",
    "        self.file = None\n",
    "\n",
    "    def __enter__(self):\n",
    "        self.file = open(self.filename, self.mode)\n",
    "        return self.file\n",
    "\n",
    "    def __exit__(self, exc_type, exc_value, traceback):\n",
    "        if self.file:\n",
    "            self.file.close()\n",
    "\n",
    "# Usage example:\n",
    "filename = 'example.txt'\n",
    "\n",
    "# Writing to the file to have some content\n",
    "with FileManager(filename, 'w') as file:\n",
    "    file.write('Hello, world!\\nThis is a test file.')\n",
    "\n",
    "# Reading the contents of the file\n",
    "with FileManager(filename, 'r') as file:\n",
    "    contents = file.read()\n",
    "\n",
    "print(contents)\n"
   ]
  },
  {
   "cell_type": "markdown",
   "id": "8c853805",
   "metadata": {},
   "source": [
    "### Assignment 15: Chaining Methods\n",
    "\n",
    "Create a class named `Calculator` with methods to add, subtract, multiply, and divide. Each method should return the object itself to allow method chaining. Create an object and chain multiple method calls."
   ]
  },
  {
   "cell_type": "code",
   "execution_count": 17,
   "id": "94cabe23",
   "metadata": {},
   "outputs": [
    {
     "name": "stdout",
     "output_type": "stream",
     "text": [
      "(7, 9)\n",
      "(-1, -1)\n",
      "(12, 20)\n"
     ]
    },
    {
     "ename": "TypeError",
     "evalue": "unsupported operand type(s) for /: 'Calculator' and 'Calculator'",
     "output_type": "error",
     "traceback": [
      "\u001b[1;31m---------------------------------------------------------------------------\u001b[0m",
      "\u001b[1;31mTypeError\u001b[0m                                 Traceback (most recent call last)",
      "Cell \u001b[1;32mIn[17], line 19\u001b[0m\n\u001b[0;32m     17\u001b[0m \u001b[38;5;28mprint\u001b[39m(c1\u001b[38;5;241m-\u001b[39mc2)\n\u001b[0;32m     18\u001b[0m \u001b[38;5;28mprint\u001b[39m(c1\u001b[38;5;241m*\u001b[39mc2)\n\u001b[1;32m---> 19\u001b[0m \u001b[38;5;28mprint\u001b[39m(\u001b[43mc1\u001b[49m\u001b[38;5;241;43m/\u001b[39;49m\u001b[43mc2\u001b[49m)\n",
      "\u001b[1;31mTypeError\u001b[0m: unsupported operand type(s) for /: 'Calculator' and 'Calculator'"
     ]
    }
   ],
   "source": [
    "class Calculator:\n",
    "    def __init__(self,x, y):\n",
    "        self.x = x\n",
    "        self.y = y\n",
    "    def __add__(self, other):\n",
    "        return self.x + other.x, self.y + other.y\n",
    "    def __sub__(self,other):\n",
    "        return self.x - other.x, self.y - other.y\n",
    "    def __mul__(self,other):\n",
    "        return self.x * other.x, self.y * other.y\n",
    "    def __div__(self,other):\n",
    "        return self.x / other.x, self.y / other.y\n",
    "\n",
    "c1 = Calculator(3,4)\n",
    "c2 = Calculator(4,5)\n",
    "print(c1+c2)\n",
    "print(c1-c2)\n",
    "print(c1*c2)\n",
    "print(c1/c2)\n"
   ]
  },
  {
   "cell_type": "code",
   "execution_count": 19,
   "id": "1479f30e",
   "metadata": {},
   "outputs": [
    {
     "name": "stdout",
     "output_type": "stream",
     "text": [
      "Divison by zero error\n"
     ]
    },
    {
     "data": {
      "text/plain": [
       "30"
      ]
     },
     "execution_count": 19,
     "metadata": {},
     "output_type": "execute_result"
    }
   ],
   "source": [
    "class Error(Exception):\n",
    "    pass\n",
    "class ZeroDivision(Error):\n",
    "    pass\n",
    "\n",
    "class Calculator():\n",
    "    def __init__(self, value=0):\n",
    "        self.value = value\n",
    "    def add(self, num):\n",
    "        self.value += num\n",
    "        return self\n",
    "    def sub(self, num):\n",
    "        self.value -= num\n",
    "        return self\n",
    "    def mul(self, num):\n",
    "        self.value *= num\n",
    "        return self\n",
    "    def div(self, num):\n",
    "        try:\n",
    "            if num != 0:\n",
    "                self.value /= num\n",
    "                return self\n",
    "            else:\n",
    "                raise ZeroDivision\n",
    "        except ZeroDivision:\n",
    "            print('Divison by zero error')\n",
    "        return self\n",
    "    \n",
    "    def result(self):\n",
    "        return self.value\n",
    "    \n",
    "cal = Calculator()\n",
    "cal.add(5).sub(2).mul(10).div(0).result()"
   ]
  },
  {
   "cell_type": "code",
   "execution_count": null,
   "id": "2b6ca14d",
   "metadata": {},
   "outputs": [],
   "source": []
  },
  {
   "cell_type": "code",
   "execution_count": null,
   "id": "46852973",
   "metadata": {},
   "outputs": [],
   "source": []
  }
 ],
 "metadata": {
  "kernelspec": {
   "display_name": "Python 3",
   "language": "python",
   "name": "python3"
  },
  "language_info": {
   "codemirror_mode": {
    "name": "ipython",
    "version": 3
   },
   "file_extension": ".py",
   "mimetype": "text/x-python",
   "name": "python",
   "nbconvert_exporter": "python",
   "pygments_lexer": "ipython3",
   "version": "3.10.11"
  }
 },
 "nbformat": 4,
 "nbformat_minor": 5
}
