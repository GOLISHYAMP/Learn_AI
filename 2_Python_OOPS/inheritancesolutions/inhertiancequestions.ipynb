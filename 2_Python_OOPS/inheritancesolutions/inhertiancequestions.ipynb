{
 "cells": [
  {
   "cell_type": "markdown",
   "metadata": {},
   "source": [
    "# Module: Inheritance Assignments\n",
    "## Lesson: Single and Multiple Inheritance\n",
    "### Assignment 1: Single Inheritance Basic\n",
    "\n",
    "Create a base class named `Animal` with attributes `name` and `species`. Create a derived class named `Dog` that inherits from `Animal` and adds an attribute `breed`. Create an object of the `Dog` class and print its attributes.\n",
    "\n",
    "### Assignment 2: Method Overriding in Single Inheritance\n",
    "\n",
    "In the `Dog` class, override the `__str__` method to return a string representation of the object. Create an object of the class and print it.\n",
    "\n",
    "### Assignment 3: Single Inheritance with Additional Methods\n",
    "\n",
    "In the `Dog` class, add a method named `bark` that prints a barking sound. Create an object of the class and call the method.\n",
    "\n",
    "### Assignment 4: Multiple Inheritance Basic\n",
    "\n",
    "Create a base class named `Walker` with a method `walk` that prints a walking message. Create another base class named `Runner` with a method `run` that prints a running message. Create a derived class named `Athlete` that inherits from both `Walker` and `Runner`. Create an object of the `Athlete` class and call both methods.\n",
    "\n",
    "### Assignment 5: Method Resolution Order (MRO) in Multiple Inheritance\n",
    "\n",
    "In the `Athlete` class, override the `walk` method to print a different message. Create an object of the class and call the `walk` method. Use the `super()` function to call the `walk` method of the `Walker` class.\n",
    "\n",
    "### Assignment 6: Multiple Inheritance with Additional Attributes\n",
    "\n",
    "In the `Athlete` class, add an attribute `training_hours` and a method `train` that prints the training hours. Create an object of the class and call the method.\n",
    "\n",
    "### Assignment 7: Diamond Problem in Multiple Inheritance\n",
    "\n",
    "Create a class named `A` with a method `show` that prints a message. Create two derived classes `B` and `C` that inherit from `A` and override the `show` method. Create a class `D` that inherits from both `B` and `C`. Create an object of the `D` class and call the `show` method. Observe the method resolution order.\n",
    "\n",
    "### Assignment 8: Using `super()` in Single Inheritance\n",
    "\n",
    "Create a base class named `Shape` with an attribute `color`. Create a derived class named `Circle` that inherits from `Shape` and adds an attribute `radius`. Use the `super()` function to initialize the attributes. Create an object of the `Circle` class and print its attributes.\n",
    "\n",
    "### Assignment 9: Using `super()` in Multiple Inheritance\n",
    "\n",
    "Create a class named `Person` with an attribute `name`. Create a class named `Employee` with an attribute `employee_id`. Create a derived class `Manager` that inherits from both `Person` and `Employee`. Use the `super()` function to initialize the attributes. Create an object of the `Manager` class and print its attributes.\n",
    "\n",
    "### Assignment 10: Method Overriding and `super()`\n",
    "\n",
    "Create a class named `Vehicle` with a method `start` that prints a starting message. Create a derived class `Car` that overrides the `start` method to print a different message. Use the `super()` function to call the `start` method of the `Vehicle` class. Create an object of the `Car` class and call the `start` method.\n",
    "\n",
    "### Assignment 11: Multiple Inheritance with Different Methods\n",
    "\n",
    "Create a class named `Flyer` with a method `fly` that prints a flying message. Create a class named `Swimmer` with a method `swim` that prints a swimming message. Create a derived class `Superhero` that inherits from both `Flyer` and `Swimmer`. Create an object of the `Superhero` class and call both methods.\n",
    "\n",
    "### Assignment 12: Complex Multiple Inheritance\n",
    "\n",
    "Create a class named `Base1` with an attribute `a`. Create a class named `Base2` with an attribute `b`. Create a class named `Derived` that inherits from both `Base1` and `Base2` and adds an attribute `c`. Initialize all attributes using the `super()` function. Create an object of the `Derived` class and print its attributes.\n",
    "\n",
    "### Assignment 13: Checking Instance Types with Inheritance\n",
    "\n",
    "Create a base class named `Animal` and a derived class named `Cat`. Create objects of both classes and use the `isinstance` function to check the instance types.\n",
    "\n",
    "### Assignment 14: Polymorphism with Inheritance\n",
    "\n",
    "Create a base class named `Bird` with a method `speak`. Create two derived classes `Parrot` and `Penguin` that override the `speak` method. Create a list of `Bird` objects and call the `speak` method on each object to demonstrate polymorphism.\n",
    "\n",
    "### Assignment 15: Combining Single and Multiple Inheritance\n",
    "\n",
    "Create a base class named `Device` with an attribute `brand`. Create a derived class `Phone` that inherits from `Device` and adds an attribute `model`. Create another base class `Camera` with an attribute `resolution`. Create a derived class `Smartphone` that inherits from both `Phone` and `Camera`. Create an object of the `Smartphone` class and print its attributes."
   ]
  },
  {
   "cell_type": "markdown",
   "id": "e3978dda",
   "metadata": {},
   "source": [
    "### Assignment 1: Single Inheritance Basic\n",
    "\n",
    "Create a base class named `Animal` with attributes `name` and `species`. Create a derived class named `Dog` that inherits from `Animal` and adds an attribute `breed`. Create an object of the `Dog` class and print its attributes."
   ]
  },
  {
   "cell_type": "code",
   "execution_count": 1,
   "id": "a16cc260",
   "metadata": {},
   "outputs": [
    {
     "name": "stdout",
     "output_type": "stream",
     "text": [
      "puppy\n",
      "bulldog\n"
     ]
    }
   ],
   "source": [
    "class Animal:\n",
    "    def __init__(self, name, species):\n",
    "        self.name = name\n",
    "        self.species = species\n",
    "class Dog(Animal):\n",
    "    def __init__(self, name, species, breed):\n",
    "        super().__init__(name, species)\n",
    "        self.breed = breed\n",
    "\n",
    "dog = Dog('puppy','american','bulldog')\n",
    "print(dog.name)\n",
    "print(dog.breed)"
   ]
  },
  {
   "cell_type": "markdown",
   "id": "cae88506",
   "metadata": {},
   "source": [
    "### Assignment 2: Method Overriding in Single Inheritance\n",
    "\n",
    "In the `Dog` class, override the `__str__` method to return a string representation of the object. Create an object of the class and print it."
   ]
  },
  {
   "cell_type": "code",
   "execution_count": 2,
   "id": "0a93eb98",
   "metadata": {},
   "outputs": [
    {
     "name": "stdout",
     "output_type": "stream",
     "text": [
      "puppy, american and bulldog\n"
     ]
    }
   ],
   "source": [
    "class Animal:\n",
    "    def __init__(self, name, species):\n",
    "        self.name = name\n",
    "        self.species = species\n",
    "class Dog(Animal):\n",
    "    def __init__(self, name, species, breed):\n",
    "        super().__init__(name, species)\n",
    "        self.breed = breed\n",
    "    def __str__(self):\n",
    "        return f'{self.name}, {self.species} and {self.breed}'\n",
    "\n",
    "dog = Dog('puppy','american','bulldog')\n",
    "print(dog)"
   ]
  },
  {
   "cell_type": "markdown",
   "id": "6241f66b",
   "metadata": {},
   "source": [
    "### Assignment 3: Single Inheritance with Additional Methods\n",
    "\n",
    "In the `Dog` class, add a method named `bark` that prints a barking sound. Create an object of the class and call the method."
   ]
  },
  {
   "cell_type": "code",
   "execution_count": 6,
   "id": "32b1b745",
   "metadata": {},
   "outputs": [
    {
     "name": "stdout",
     "output_type": "stream",
     "text": [
      "woof woof\n"
     ]
    }
   ],
   "source": [
    "class Animal:\n",
    "    def __init__(self, name, species):\n",
    "        self.name = name\n",
    "        self.species = species\n",
    "class Dog(Animal):\n",
    "    def __init__(self, name, species, breed):\n",
    "        super().__init__(name, species)\n",
    "        self.breed = breed\n",
    "    def __str__(self):\n",
    "        return f'{self.name}, {self.species} and {self.breed}'\n",
    "    \n",
    "    def bark(self):\n",
    "        print('woof woof')\n",
    "\n",
    "dog = Dog('puppy','american','bulldog')\n",
    "dog.bark()"
   ]
  },
  {
   "cell_type": "markdown",
   "id": "79ed7301",
   "metadata": {},
   "source": [
    "### Assignment 4: Multiple Inheritance Basic\n",
    "\n",
    "Create a base class named `Walker` with a method `walk` that prints a walking message. Create another base class named `Runner` with a method `run` that prints a running message. Create a derived class named `Athlete` that inherits from both `Walker` and `Runner`. Create an object of the `Athlete` class and call both methods."
   ]
  },
  {
   "cell_type": "code",
   "execution_count": 7,
   "metadata": {},
   "outputs": [
    {
     "name": "stdout",
     "output_type": "stream",
     "text": [
      "i am walking\n",
      "i am running\n"
     ]
    }
   ],
   "source": [
    "class Walker:\n",
    "    def __init__(self):\n",
    "        pass\n",
    "    def walk(self):\n",
    "        print(\"i am walking\")\n",
    "\n",
    "class Runner:\n",
    "    def __init__(self):\n",
    "        pass\n",
    "    def run(self):\n",
    "        print(\"i am running\")\n",
    "\n",
    "class Athlete(Walker, Runner):\n",
    "    pass\n",
    "\n",
    "ath = Athlete()\n",
    "ath.walk()\n",
    "ath.run()"
   ]
  },
  {
   "cell_type": "markdown",
   "id": "75976525",
   "metadata": {},
   "source": [
    "### Assignment 5: Method Resolution Order (MRO) in Multiple Inheritance\n",
    "\n",
    "In the `Athlete` class, override the `walk` method to print a different message. Create an object of the class and call the `walk` method. Use the `super()` function to call the `walk` method of the `Walker` class."
   ]
  },
  {
   "cell_type": "code",
   "execution_count": 9,
   "id": "ea1e2bc6",
   "metadata": {},
   "outputs": [
    {
     "name": "stdout",
     "output_type": "stream",
     "text": [
      "i am walking\n",
      "i am doing athlete walk\n"
     ]
    }
   ],
   "source": [
    "class Walker:\n",
    "    def __init__(self):\n",
    "        pass\n",
    "    def walk(self):\n",
    "        print(\"i am walking\")\n",
    "\n",
    "class Runner:\n",
    "    def __init__(self):\n",
    "        pass\n",
    "    def run(self):\n",
    "        print(\"i am running\")\n",
    "\n",
    "class Athlete(Walker, Runner):\n",
    "    def walk(self):\n",
    "        super().walk()\n",
    "        print(\"i am doing athlete walk\")\n",
    "\n",
    "ath = Athlete()\n",
    "ath.walk()\n"
   ]
  },
  {
   "cell_type": "markdown",
   "id": "77c6c01e",
   "metadata": {},
   "source": [
    "### Assignment 6: Multiple Inheritance with Additional Attributes\n",
    "\n",
    "In the `Athlete` class, add an attribute `training_hours` and a method `train` that prints the training hours. Create an object of the class and call the method."
   ]
  },
  {
   "cell_type": "code",
   "execution_count": 11,
   "id": "a9fb575f",
   "metadata": {},
   "outputs": [
    {
     "name": "stdout",
     "output_type": "stream",
     "text": [
      "i am undergoing training for 2 hours\n"
     ]
    }
   ],
   "source": [
    "class Walker:\n",
    "    def __init__(self):\n",
    "        pass\n",
    "    def walk(self):\n",
    "        print(\"i am walking\")\n",
    "\n",
    "class Runner:\n",
    "    def __init__(self):\n",
    "        pass\n",
    "    def run(self):\n",
    "        print(\"i am running\")\n",
    "\n",
    "class Athlete(Walker, Runner):\n",
    "    def __init__(self, training_hours):\n",
    "        self.training_hours = training_hours\n",
    "    def walk(self):\n",
    "        super().walk()\n",
    "        print(\"i am doing athlete walk\")\n",
    "    def train(self):\n",
    "        print(f\"i am undergoing training for {self.training_hours} hours\")\n",
    "\n",
    "ath = Athlete(2)\n",
    "ath.train()\n"
   ]
  },
  {
   "cell_type": "markdown",
   "id": "dabe5772",
   "metadata": {},
   "source": [
    "### Assignment 7: Diamond Problem in Multiple Inheritance\n",
    "\n",
    "Create a class named `A` with a method `show` that prints a message. Create two derived classes `B` and `C` that inherit from `A` and override the `show` method. Create a class `D` that inherits from both `B` and `C`. Create an object of the `D` class and call the `show` method. Observe the method resolution order."
   ]
  },
  {
   "cell_type": "code",
   "execution_count": 12,
   "id": "2b58d13c",
   "metadata": {},
   "outputs": [
    {
     "name": "stdout",
     "output_type": "stream",
     "text": [
      "hello world from B\n"
     ]
    }
   ],
   "source": [
    "class A:\n",
    "    def __init__(self):\n",
    "        pass\n",
    "    def show(self):\n",
    "        print(\"hello world\")\n",
    "\n",
    "class B(A):\n",
    "    def __init__(self):\n",
    "        pass\n",
    "    def show(self):\n",
    "        print(\"hello world from B\")\n",
    "\n",
    "class C(A):\n",
    "    def __init__(self):\n",
    "        pass\n",
    "    def show(self):\n",
    "        print(\"hello world from C\")\n",
    "\n",
    "class D(B,C):\n",
    "    def __init__(self):\n",
    "        pass\n",
    "\n",
    "obj_d = D()\n",
    "obj_d.show()"
   ]
  },
  {
   "cell_type": "markdown",
   "id": "93a7a89d",
   "metadata": {},
   "source": [
    "### Assignment 8: Using `super()` in Single Inheritance\n",
    "\n",
    "Create a base class named `Shape` with an attribute `color`. Create a derived class named `Circle` that inherits from `Shape` and adds an attribute `radius`. Use the `super()` function to initialize the attributes. Create an object of the `Circle` class and print its attributes."
   ]
  },
  {
   "cell_type": "code",
   "execution_count": 13,
   "id": "b97602fc",
   "metadata": {},
   "outputs": [
    {
     "name": "stdout",
     "output_type": "stream",
     "text": [
      "5\n",
      "red\n"
     ]
    }
   ],
   "source": [
    "class Shape:\n",
    "    def __init__(self,color):\n",
    "        self.color = color\n",
    "class Circle(Shape):\n",
    "    def __init__(self,color, radius):\n",
    "        super().__init__(color)\n",
    "        self.radius = radius\n",
    "\n",
    "cir = Circle('red', '5')\n",
    "print(cir.radius)\n",
    "print(cir.color)"
   ]
  },
  {
   "cell_type": "markdown",
   "id": "2e81fb68",
   "metadata": {},
   "source": [
    "### Assignment 9: Using `super()` in Multiple Inheritance\n",
    "\n",
    "Create a class named `Person` with an attribute `name`. Create a class named `Employee` with an attribute `employee_id`. Create a derived class `Manager` that inherits from both `Person` and `Employee`. Use the `super()` function to initialize the attributes. Create an object of the `Manager` class and print its attributes."
   ]
  },
  {
   "cell_type": "code",
   "execution_count": 20,
   "id": "195bd6b7",
   "metadata": {},
   "outputs": [
    {
     "name": "stdout",
     "output_type": "stream",
     "text": [
      "shyam 4632\n"
     ]
    }
   ],
   "source": [
    "class Person:\n",
    "    def __init__(self, name):\n",
    "        self.name = name\n",
    "\n",
    "class Employee:\n",
    "    def __init__(self, employeeid):\n",
    "        self.employee_id = employeeid\n",
    "\n",
    "class Manager(Person, Employee):\n",
    "    def __init__(self, name, employeeid):\n",
    "        # Person.name = name\n",
    "        # Employee.employee_id = employeeid\n",
    "        super().__init__(name)\n",
    "        super(Person, self).__init__(employeeid)\n",
    "\n",
    "m = Manager('shyam','4632')\n",
    "print(m.name, m.employee_id)"
   ]
  },
  {
   "cell_type": "code",
   "execution_count": 23,
   "id": "85b182b6",
   "metadata": {},
   "outputs": [
    {
     "name": "stdout",
     "output_type": "stream",
     "text": [
      "shyam 4632\n"
     ]
    }
   ],
   "source": [
    "## Best Approach\n",
    "class Person:\n",
    "    def __init__(self, name, **kwargs):\n",
    "        self.name = name\n",
    "        super().__init__(**kwargs)\n",
    "\n",
    "class Employee:\n",
    "    def __init__(self, employeeid, **kwargs):\n",
    "        self.employee_id = employeeid\n",
    "        super().__init__(**kwargs)\n",
    "\n",
    "\n",
    "class Manager(Employee, Person):\n",
    "    def __init__(self, name, employeeid):\n",
    "        super().__init__(name = name, employeeid= employeeid)\n",
    "\n",
    "m = Manager('shyam','4632')\n",
    "print(m.name, m.employee_id)"
   ]
  },
  {
   "cell_type": "markdown",
   "id": "308f7539",
   "metadata": {},
   "source": [
    "### Assignment 10: Method Overriding and `super()`\n",
    "\n",
    "Create a class named `Vehicle` with a method `start` that prints a starting message. Create a derived class `Car` that overrides the `start` method to print a different message. Use the `super()` function to call the `start` method of the `Vehicle` class. Create an object of the `Car` class and call the `start` method."
   ]
  },
  {
   "cell_type": "code",
   "execution_count": 25,
   "id": "5c25ff22",
   "metadata": {},
   "outputs": [
    {
     "name": "stdout",
     "output_type": "stream",
     "text": [
      "starting the vehicle\n",
      "starting the vehicle Car\n"
     ]
    }
   ],
   "source": [
    "class Vehicle:\n",
    "    def __init__(self):\n",
    "        pass\n",
    "    def start(self):\n",
    "        print(\"starting the vehicle\")\n",
    "\n",
    "class Car(Vehicle):\n",
    "    def __init__(self):\n",
    "        super().start()\n",
    "    def start(self):\n",
    "        print(\"starting the vehicle Car\")\n",
    "\n",
    "c = Car()\n",
    "c.start()"
   ]
  },
  {
   "cell_type": "markdown",
   "id": "0da3c310",
   "metadata": {},
   "source": [
    "### Assignment 11: Multiple Inheritance with Different Methods\n",
    "\n",
    "Create a class named `Flyer` with a method `fly` that prints a flying message. Create a class named `Swimmer` with a method `swim` that prints a swimming message. Create a derived class `Superhero` that inherits from both `Flyer` and `Swimmer`. Create an object of the `Superhero` class and call both methods."
   ]
  },
  {
   "cell_type": "code",
   "execution_count": 26,
   "id": "d533f9cb",
   "metadata": {},
   "outputs": [
    {
     "name": "stdout",
     "output_type": "stream",
     "text": [
      "I am flying\n",
      "I am swimming\n"
     ]
    }
   ],
   "source": [
    "class Flyer:\n",
    "    def __init__(self):\n",
    "        pass\n",
    "    def fly(self):\n",
    "        print(\"I am flying\")\n",
    "    \n",
    "class Swimmer:\n",
    "    def __init__(self):\n",
    "        pass\n",
    "    def swim(self):\n",
    "        print(\"I am swimming\")\n",
    "\n",
    "class SuperHero(Flyer, Swimmer):\n",
    "    def __init__(self):\n",
    "        pass\n",
    "Sh = SuperHero()\n",
    "Sh.fly()\n",
    "Sh.swim()\n"
   ]
  },
  {
   "cell_type": "markdown",
   "id": "99aa7486",
   "metadata": {},
   "source": [
    "### Assignment 12: Complex Multiple Inheritance\n",
    "\n",
    "Create a class named `Base1` with an attribute `a`. Create a class named `Base2` with an attribute `b`. Create a class named `Derived` that inherits from both `Base1` and `Base2` and adds an attribute `c`. Initialize all attributes using the `super()` function. Create an object of the `Derived` class and print its attributes."
   ]
  },
  {
   "cell_type": "code",
   "execution_count": 28,
   "id": "1e575553",
   "metadata": {},
   "outputs": [
    {
     "name": "stdout",
     "output_type": "stream",
     "text": [
      "10\n",
      "20\n"
     ]
    }
   ],
   "source": [
    "class Base1:\n",
    "    def __init__(self, a, **kwargs):\n",
    "        self.a = a\n",
    "        super().__init__(**kwargs)\n",
    "\n",
    "class Base2:\n",
    "    def __init__(self, b, **kwargs):\n",
    "        self.b = b\n",
    "        super().__init__(**kwargs)\n",
    "\n",
    "\n",
    "class Derived(Base1, Base2):\n",
    "    def __init__(self, a, b):\n",
    "        super().__init__(a=a, b =b)\n",
    "\n",
    "der = Derived(10,20)\n",
    "print(der.a)\n",
    "print(der.b)"
   ]
  },
  {
   "cell_type": "markdown",
   "id": "e546e3cf",
   "metadata": {},
   "source": [
    "### Assignment 13: Checking Instance Types with Inheritance\n",
    "\n",
    "Create a base class named `Animal` and a derived class named `Cat`. Create objects of both classes and use the `isinstance` function to check the instance types.\n"
   ]
  },
  {
   "cell_type": "code",
   "execution_count": 33,
   "id": "15160a10",
   "metadata": {},
   "outputs": [
    {
     "name": "stdout",
     "output_type": "stream",
     "text": [
      "True\n",
      "True\n",
      "False\n"
     ]
    }
   ],
   "source": [
    "class Animal:\n",
    "    def __init__(self):\n",
    "        pass\n",
    "class Cat:\n",
    "    def __init__(self):\n",
    "        pass\n",
    "animal = Animal()\n",
    "cat = Cat()\n",
    "print(isinstance(animal,Animal))\n",
    "print(isinstance(cat,Cat))\n",
    "print(isinstance(cat,Animal))"
   ]
  },
  {
   "cell_type": "markdown",
   "id": "65a53a42",
   "metadata": {},
   "source": [
    "### Assignment 14: Polymorphism with Inheritance\n",
    "\n",
    "Create a base class named `Bird` with a method `speak`. Create two derived classes `Parrot` and `Penguin` that override the `speak` method. Create a list of `Bird` objects and call the `speak` method on each object to demonstrate polymorphism."
   ]
  },
  {
   "cell_type": "code",
   "execution_count": 34,
   "id": "32862225",
   "metadata": {},
   "outputs": [
    {
     "name": "stdout",
     "output_type": "stream",
     "text": [
      "chik chik\n",
      "qlick qlick\n",
      "chik chik\n",
      "qlick qlick\n"
     ]
    }
   ],
   "source": [
    "class Bird:\n",
    "    def __init__(self):\n",
    "        pass\n",
    "    def speak(self):\n",
    "        print(\"i am speaking\")\n",
    "class Parrot(Bird):\n",
    "    def __init__(self):\n",
    "        pass\n",
    "    def speak(self):\n",
    "        print(\"chik chik\")\n",
    "class Penguin(Bird):\n",
    "    def __init__(self):\n",
    "        pass\n",
    "    def speak(self):\n",
    "        print(\"qlick qlick\")\n",
    "\n",
    "Birds = [Parrot(),Penguin(),Parrot(),Penguin()]\n",
    "for i in Birds:\n",
    "    i.speak()"
   ]
  },
  {
   "cell_type": "markdown",
   "id": "e39ebc35",
   "metadata": {},
   "source": [
    "### Assignment 15: Combining Single and Multiple Inheritance\n",
    "\n",
    "Create a base class named `Device` with an attribute `brand`. Create a derived class `Phone` that inherits from `Device` and adds an attribute `model`. Create another base class `Camera` with an attribute `resolution`. Create a derived class `Smartphone` that inherits from both `Phone` and `Camera`. Create an object of the `Smartphone` class and print its attributes."
   ]
  },
  {
   "cell_type": "code",
   "execution_count": 38,
   "id": "0f22ebfd",
   "metadata": {},
   "outputs": [
    {
     "name": "stdout",
     "output_type": "stream",
     "text": [
      "IQOO\n",
      "NEO 6\n",
      "HIGH\n"
     ]
    }
   ],
   "source": [
    "class Device:\n",
    "    def __init__(self,brand,**kwargs):\n",
    "        self.brand = brand\n",
    "        super().__init__(**kwargs)\n",
    "        \n",
    "class Phone(Device):\n",
    "    def __init__(self,brand,model,**kwargs):\n",
    "        self.model = model\n",
    "        super().__init__(brand,**kwargs)\n",
    "\n",
    "class Camera:\n",
    "    def __init__(self,resolution,**kwargs):\n",
    "        self.resolution = resolution\n",
    "        super().__init__(**kwargs)\n",
    "\n",
    "class SmartPhone(Phone, Camera):\n",
    "    def __init__(self, brand ,model, resolution):\n",
    "        super().__init__(brand=brand, model = model, resolution = resolution )\n",
    "\n",
    "sp = SmartPhone(\"IQOO\", \"NEO 6\", \"HIGH\")\n",
    "print(sp.brand)\n",
    "print(sp.model)\n",
    "print(sp.resolution)\n",
    "        \n"
   ]
  },
  {
   "cell_type": "code",
   "execution_count": null,
   "id": "c4904e5c",
   "metadata": {},
   "outputs": [],
   "source": []
  }
 ],
 "metadata": {
  "kernelspec": {
   "display_name": "Python 3",
   "language": "python",
   "name": "python3"
  },
  "language_info": {
   "codemirror_mode": {
    "name": "ipython",
    "version": 3
   },
   "file_extension": ".py",
   "mimetype": "text/x-python",
   "name": "python",
   "nbconvert_exporter": "python",
   "pygments_lexer": "ipython3",
   "version": "3.10.11"
  }
 },
 "nbformat": 4,
 "nbformat_minor": 5
}
